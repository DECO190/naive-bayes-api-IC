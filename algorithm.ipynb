{
 "cells": [
  {
   "cell_type": "code",
   "execution_count": 11,
   "metadata": {},
   "outputs": [],
   "source": [
    "import pandas as pd\n",
    "import pickle\n"
   ]
  },
  {
   "cell_type": "code",
   "execution_count": 3,
   "metadata": {},
   "outputs": [],
   "source": [
    "# ========================================== UTILS\n",
    "\n",
    "def clean_review(review: str):\n",
    "    review = review.lower()\n",
    "    review = review.replace(\"<br>\", \"\").replace(\"<br />\", \"\")\n",
    "\n",
    "    res = \"\"\n",
    "\n",
    "    for char in review:\n",
    "        if (char.isalpha() or char == \" \"): \n",
    "            res += char\n",
    "\n",
    "    return res\n",
    "\n"
   ]
  },
  {
   "cell_type": "code",
   "execution_count": 10,
   "metadata": {},
   "outputs": [],
   "source": [
    "train_reviews_df = pd.read_csv(\"data/train.csv\")\n",
    "train_reviews_df = train_reviews_df[:25000]\n",
    "train_reviews_df[\"review\"] = train_reviews_df[\"review\"].apply(clean_review)\n",
    "\n",
    "test_reviews_df = pd.read_csv(\"data/test.csv\")\n",
    "test_reviews_df = test_reviews_df[:1000]\n",
    "test_reviews_df[\"review\"] = test_reviews_df[\"review\"].apply(clean_review)\n"
   ]
  },
  {
   "cell_type": "code",
   "execution_count": 33,
   "metadata": {},
   "outputs": [],
   "source": [
    "words_counter = {}\n",
    "\n",
    "for row_series in train_reviews_df.itertuples():\n",
    "    added_words = []\n",
    "    review  = row_series.review\n",
    "    sentiment  = row_series.sentiment\n",
    "\n",
    "    for word in review.split(\" \"):\n",
    "        if word in added_words:\n",
    "            continue\n",
    "        else:\n",
    "            added_words.append(word)\n",
    "\n",
    "        if (word not in words_counter):\n",
    "            words_counter[word] = {\"positive\": 0, \"negative\": 0, \"total\": 0}\n",
    "\n",
    "        if (sentiment == \"positive\"):\n",
    "            words_counter[word][\"positive\"] += 1\n",
    "        else:\n",
    "            words_counter[word][\"negative\"] += 1\n",
    "\n",
    "        words_counter[word][\"total\"] += 1"
   ]
  },
  {
   "cell_type": "code",
   "execution_count": 37,
   "metadata": {},
   "outputs": [
    {
     "name": "stdout",
     "output_type": "stream",
     "text": [
      "None\n"
     ]
    }
   ],
   "source": [
    "# ref: https://stackoverflow.com/questions/11218477/how-can-i-use-pickle-to-save-a-dict-or-any-other-python-object\n",
    "\n",
    "\n",
    "with open('model.pickle', 'wb') as handle:\n",
    "    a = pickle.dump(words_counter, handle, protocol=pickle.HIGHEST_PROTOCOL)\n",
    "    print(a)"
   ]
  },
  {
   "cell_type": "code",
   "execution_count": 34,
   "metadata": {},
   "outputs": [],
   "source": [
    "\n",
    "\n",
    "p_pos = len(train_reviews_df[train_reviews_df[\"sentiment\"] == 'positive']) / len(train_reviews_df)\n",
    "p_neg = len(train_reviews_df[train_reviews_df[\"sentiment\"] == 'negative']) / len(train_reviews_df)\n",
    "\n",
    "all_words = list(words_counter.keys())\n",
    "\n",
    "total_pos = len(train_reviews_df[train_reviews_df[\"sentiment\"] == \"positive\"])\n",
    "total_neg = len(train_reviews_df[train_reviews_df[\"sentiment\"] == \"negative\"])\n",
    "\n",
    "\n",
    "def classificate_review(review):\n",
    "    global p_neg, p_pos\n",
    "\n",
    "    p_res_pos = 1\n",
    "    p_res_neg = 1\n",
    "    has = {}\n",
    "\n",
    "    for word in all_words:\n",
    "        if (word in review):\n",
    "            has[word] = True\n",
    "        else:\n",
    "            has[word] = False\n",
    "\n",
    "    for word in has:\n",
    "        if (has[word]):\n",
    "            p_word_given_positive = (words_counter[word][\"positive\"] / total_pos)\n",
    "            p_word_given_negative = (words_counter[word][\"negative\"] / total_neg)\n",
    "\n",
    "            p_word = words_counter[word][\"total\"] / len(train_reviews_df)\n",
    "\n",
    "            p_positive_given_word = p_word_given_positive / p_word\n",
    "            p_negative_given_word = p_word_given_negative / p_word\n",
    "            \n",
    "            if (p_negative_given_word > 0):\n",
    "                p_res_neg *= p_negative_given_word\n",
    "\n",
    "            if (p_positive_given_word > 0):\n",
    "                p_res_pos *= p_positive_given_word\n",
    "        else:\n",
    "            p_n_word_given_positive = 1 - (words_counter[word][\"positive\"] / total_pos)\n",
    "            p_n_word_given_negative = 1 - (words_counter[word][\"negative\"] / total_neg)\n",
    "\n",
    "            p_n_word = 1 - (words_counter[word][\"total\"] / len(train_reviews_df))\n",
    "\n",
    "            p_positive_given_n_word = p_n_word_given_positive / p_n_word\n",
    "            p_negative_given_n_word = p_n_word_given_negative / p_n_word\n",
    "            \n",
    "            if (p_negative_given_n_word > 0):\n",
    "                p_res_neg *= p_negative_given_n_word\n",
    "            \n",
    "\n",
    "            if (p_positive_given_n_word > 0):\n",
    "                p_res_pos *= p_positive_given_n_word\n",
    "\n",
    "    p_res_neg *= p_neg\n",
    "    p_res_pos *= p_pos\n",
    "\n",
    "    result = \"positive\"\n",
    "\n",
    "    if (p_res_pos < p_res_neg):\n",
    "        result = \"negative\"\n",
    "\n",
    "    return result\n"
   ]
  },
  {
   "cell_type": "code",
   "execution_count": 7,
   "metadata": {},
   "outputs": [
    {
     "name": "stdout",
     "output_type": "stream",
     "text": [
      "\u001b[1;37;41m WRONG: 224\u001b[0m\u001b[0;37;41m (22.40%) \n",
      "\u001b[1;37;42m RIGHT: 776\u001b[0m\u001b[0;37;42m (77.60%) \n"
     ]
    }
   ],
   "source": [
    "def test_classification(): \n",
    "    right = 0\n",
    "    wrong = 0\n",
    "\n",
    "    for row_series in test_reviews_df.itertuples():\n",
    "        review  = row_series.review\n",
    "        sentiment = row_series.sentiment\n",
    "\n",
    "        classification = classificate_review(review)\n",
    "\n",
    "        if (classification == sentiment):\n",
    "            right += 1\n",
    "        else:\n",
    "            wrong += 1\n",
    "\n",
    "    print(f\"\\033[1;37;41m WRONG: {wrong}\\033[0m\\033[0;37;41m ({(wrong / len(test_reviews_df)) * 100:.2f}%) \")\n",
    "    print(f\"\\033[1;37;42m RIGHT: {right}\\033[0m\\033[0;37;42m ({(right / len(test_reviews_df)) * 100 :.2f}%) \")\n",
    "\n",
    "test_classification()\n"
   ]
  }
 ],
 "metadata": {
  "kernelspec": {
   "display_name": "Python 3",
   "language": "python",
   "name": "python3"
  },
  "language_info": {
   "codemirror_mode": {
    "name": "ipython",
    "version": 3
   },
   "file_extension": ".py",
   "mimetype": "text/x-python",
   "name": "python",
   "nbconvert_exporter": "python",
   "pygments_lexer": "ipython3",
   "version": "3.11.6"
  },
  "orig_nbformat": 4
 },
 "nbformat": 4,
 "nbformat_minor": 2
}
